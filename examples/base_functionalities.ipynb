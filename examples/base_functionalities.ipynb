{
 "cells": [
  {
   "cell_type": "markdown",
   "source": [
    "# Presentation\n",
    "\n",
    "`ajmc` provides a simple framework to deal with the projects data. It can be used to compute stats, to evaluate an ocr output or simply to navigate through the data."
   ],
   "metadata": {
    "collapsed": false,
    "pycharm": {
     "name": "#%% md\n"
    }
   }
  },
  {
   "cell_type": "markdown",
   "source": [
    "## Navigate through the data\n",
    "\n",
    "### Creating a commentary on the fly\n",
    "\n",
    "The simplest to navigate through the text of a commentary is to instantiate a `text_importation.classes.Commentary()` object. This object relies on an OCR-output directory (`ocr_dir`), but the more you feed, the more functionalities will be available. For instance, providing the `via_path` gives access to the layout."
   ],
   "metadata": {
    "collapsed": false
   }
  },
  {
   "cell_type": "code",
   "execution_count": null,
   "outputs": [],
   "source": [
    "from ajmc.text_importation.classes import Commentary\n",
    "\n",
    "comm = Commentary(commentary_id='my_commentary',\n",
    "                  ocr_dir='/abspath/to/ocr/outputs/',\n",
    "                  via_path='/abspath/to/via_project.json',\n",
    "                  image_dir='/abspath/to/imgs/',\n",
    "                  groundtruth_dir=None)"
   ],
   "metadata": {
    "collapsed": false,
    "pycharm": {
     "name": "#%%\n"
    }
   }
  },
  {
   "cell_type": "markdown",
   "source": [
    "**Note**. Notice that since groundtruth is note provided, all the functionalities requiring this feature (for instance, evaluating the ocr with `commentary_evaluation()` will not be available."
   ],
   "metadata": {
    "collapsed": false
   }
  },
  {
   "cell_type": "markdown",
   "source": [
    "### Creating a commentary from ajmc\\'s folder structure\n",
    "\n",
    "You can also create a commentary from the `ocr_dir` of a commentary which is compliant with the project\\'s folder structure. Because all the path selection relies on this structure, declaration is a lot easier."
   ],
   "metadata": {
    "collapsed": false
   }
  },
  {
   "cell_type": "code",
   "execution_count": null,
   "outputs": [],
   "source": [
    "from ajmc.text_importation.classes import Commentary\n",
    "\n",
    "comm = Commentary.from_structure(ocr_dir='/abspath/to/base_dir/[comm_id]/ocr/runs/[ocr_run]/outputs')"
   ],
   "metadata": {
    "collapsed": false,
    "pycharm": {
     "name": "#%%\n"
    }
   }
  },
  {
   "cell_type": "markdown",
   "source": [
    "**Note**. The same methods can be used to instantiate a `classes.Page` object."
   ],
   "metadata": {
    "collapsed": false
   }
  },
  {
   "cell_type": "markdown",
   "source": [
    "### `Commentary` main attributes\n",
    "\n",
    "As a collection of pages, `Commentary` objects contain :\n",
    "\n",
    "- Lists of ocr_outputs `Commentary.Pages`, `Commentary.ocr_groundtruth_pages` and `Commentary.olr_groundtruth_pages`.\n",
    "- `Commentary.paths`, a dict containing the most useful paths\n",
    "- `Commentary.via_project` a dict object with information about layout-regions.\n",
    "- `classes.TextElements` such as `regions`, `lines` and `words`.\n",
    "\n",
    "**Note**. All classes contains their respective subelements. Each `Page` contains `regions`, `lines` and `words`, each `Region` contains `lines` and `words` and each `lines` contains `words`.\n",
    "\n",
    "This provides a simple framework for a wide panel of actions. You can for instance :"
   ],
   "metadata": {
    "collapsed": false
   }
  },
  {
   "cell_type": "code",
   "execution_count": null,
   "outputs": [],
   "source": [
    "# Get all the words in the annotated `primary_text`s of a commentary:\n",
    "words = [word.text for region in comm.regions for word in region.words if region.region_type=='primary_text']\n",
    "# Note that this still takes a bit of time as regions are automatically re-shaped.\n",
    "\n",
    "# Get their counts\n",
    "count = len(words)\n",
    "\n",
    "# Get the pages with at least one annotated `commentary` region\n",
    "count_comm_regions = [p for p in comm.pages if any([r.region_type=='commentary' for r in p.regions])]"
   ],
   "metadata": {
    "collapsed": false,
    "pycharm": {
     "name": "#%%\n"
    }
   }
  },
  {
   "cell_type": "markdown",
   "source": [
    "### Getting familiar with textual elements\n",
    "\n",
    "Textual elements are stored in two kinds of objects : `classes.Region` and `classes.TextElement`. You can:"
   ],
   "metadata": {
    "collapsed": false
   }
  },
  {
   "cell_type": "code",
   "execution_count": null,
   "outputs": [],
   "source": [
    "# Selecting a region randomly\n",
    "region = comm.olr_groundtruth_pages[12].regions[0]\n",
    "\n",
    "# Get the region type\n",
    "region.region_type\n",
    "\n",
    "# Get the lines contained in the region\n",
    "region.lines\n",
    "\n",
    "# Get the region's image\n",
    "region.image\n",
    "\n",
    "# Get the region's coordinates\n",
    "region.coords\n",
    "\n",
    "# Get the region's text\n",
    "region.text"
   ],
   "metadata": {
    "collapsed": false,
    "pycharm": {
     "name": "#%%\n"
    }
   }
  },
  {
   "cell_type": "markdown",
   "source": [
    "**Note**. With the exception of `region_type`, all these attributes are shared among `Region` and `TextElement` (which is the motherclass for lines and words."
   ],
   "metadata": {
    "collapsed": false
   }
  },
  {
   "cell_type": "markdown",
   "source": [
    "## Exporting data\n"
   ],
   "metadata": {
    "collapsed": false,
    "pycharm": {
     "name": "#%% md\n"
    }
   }
  }
 ],
 "metadata": {
  "kernelspec": {
   "display_name": "Python 3",
   "language": "python",
   "name": "python3"
  },
  "language_info": {
   "codemirror_mode": {
    "name": "ipython",
    "version": 2
   },
   "file_extension": ".py",
   "mimetype": "text/x-python",
   "name": "python",
   "nbconvert_exporter": "python",
   "pygments_lexer": "ipython2",
   "version": "2.7.6"
  }
 },
 "nbformat": 4,
 "nbformat_minor": 0
}