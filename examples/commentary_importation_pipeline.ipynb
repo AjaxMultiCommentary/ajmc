{
 "cells": [
  {
   "cell_type": "markdown",
   "source": [
    "# Commentary importation pipeline\n",
    "\n",
    "This notebook goes through all the steps involved in the creation of `CanonicalCommentary`s from OCR outputs.\n",
    "\n",
    "We will therefore:\n",
    "\n",
    "1. See how to import an `OcrCommentary` from OCR outputs.\n",
    "2. See how to optimise this commentary and transform it to a `CanonicalCommentary`\n",
    "3. See how to export it to a canonical json format for later use."
   ],
   "metadata": {
    "collapsed": false
   }
  },
  {
   "cell_type": "markdown",
   "source": [
    "## Creating an `OcrCommetary`.\n",
    "\n",
    "`OcrCommentary`s need access to (at least) three kind of information:\n",
    "- OCR outputs files, which represent single pages and which will serve as a basis to create `OcrPage` objects\n",
    "- The corresponding images (after which the former are named)\n",
    "- A via-project.json containing information about the layout.\n",
    "\n",
    "Using the data provided in `ajmc/data/sample_commentaries`, we can create our first `OcrCommentary`."
   ],
   "metadata": {
    "collapsed": false
   }
  },
  {
   "cell_type": "code",
   "execution_count": null,
   "outputs": [],
   "source": [
    "from ajmc.text_processing.ocr_classes import OcrCommentary\n",
    "\n",
    "ocr_commentary = OcrCommentary(id='cu31924087948174',\n",
    "                               ocr_dir='../data/sample_commentaries/cu31924087948174/ocr/runs/tess_eng_grc/outputs',\n",
    "                               via_path='../data/sample_commentaries/cu31924087948174/olr/via_project.json',\n",
    "                               image_dir='../data/sample_commentaries/cu31924087948174/images/png')"
   ],
   "metadata": {
    "collapsed": false
   }
  },
  {
   "cell_type": "markdown",
   "metadata": {
    "collapsed": true
   },
   "source": [
    "Providing all these paths can be cumbersome. `ajmc` therefore has a [systematic directory structure]() which allows us to create a commentary directly from its OCR outputs directory if it is compliant with the project\\'s folder structure. As `../data/sample_commentaries` are ajmc-compliant, we can simply:"
   ]
  },
  {
   "cell_type": "code",
   "execution_count": null,
   "outputs": [],
   "source": [
    "# Note that our path holds to the structure pattern : '/abspath/to/base_dir/[comm_id]/ocr/runs/[ocr_run]/outputs'\n",
    "ocr_commentary = OcrCommentary.from_ajmc_structure(\n",
    "    ocr_dir='../data/sample_commentaries/cu31924087948174/ocr/runs/tess_eng_grc/outputs')"
   ],
   "metadata": {
    "collapsed": false
   }
  },
  {
   "cell_type": "markdown",
   "source": [
    "The creation of an `OcrCommentary` will take care of the creation of its pages, lines, regions and words. However, it is also possible to instantiate any of these directly:"
   ],
   "metadata": {
    "collapsed": false
   }
  },
  {
   "cell_type": "code",
   "execution_count": null,
   "outputs": [],
   "source": [
    "from ajmc.text_processing.ocr_classes import OcrPage\n",
    "\n",
    "page = OcrPage(id='cu31924087948174_0035',\n",
    "               ocr_path='../data/sample_commentaries/cu31924087948174/ocr/runs/tess_eng_grc/outputs/cu31924087948174_0035.hocr',\n",
    "               image_path='../data/sample_commentaries/cu31924087948174/images/png/cu31924087948174_0035.png',\n",
    "               commentary=ocr_commentary)"
   ],
   "metadata": {
    "collapsed": false
   }
  },
  {
   "cell_type": "markdown",
   "source": [
    "Note:\n",
    "    It is not necessary to provide all the arguments provided here. For instance, if you leave `commentary=...` blank, the object will still be functionnal, but you won't be able to retrieve commentary-level information, such as the via_project."
   ],
   "metadata": {
    "collapsed": false
   }
  },
  {
   "cell_type": "markdown",
   "source": [
    "## Why should one bother creating `CanonicalCommentary`s ? \n",
    "\n",
    "- TL;DR : Skip to the next section 👇🏼\n",
    "\n",
    "### The vagaries of OCR\n",
    "\n",
    "You may ask yourself: what's actually the problem with `OcrCommentary`s ? Why should we care about enhancing an `OcrCommentary` in the first place ? Well, the problem is not really about the object itself but on the many inconsistencies and noise of the OCR outputs it relies on. To cite a few:\n",
    "    1. Empty or non words\n",
    "    2. Crummy, elongated, stretched or shrinked word bounding boxes or even inverted bounding boxes with negative width and height (True story).\n",
    "    3. Labyrinthine reading order\n",
    "    4. Single lines spanning over multiple columns, multiple lines or side numbers\n",
    "    5. Diacritics recognized as single lines\n",
    "    6. Crummy, elongated, stretched or shrinked line bounding boxes\n",
    "    7. ...\n",
    "\n",
    "\n",
    "### The weakness of xml formats\n",
    "\n",
    "To add to this already long though not exhaustive list of pitfalls, one should add two other caveats:\n",
    "- OCR outputs come in different formats (Kraken or Tesseract style `hocr`, `alto`, `pagexml`...)\n",
    "- Though very different because of their individualistic wills to create [harmonized, overarching standards](https://xkcd.com/927/), these formats all share the same weakness: the nested architecture of xml-like documents. Let me provided with a simple example. Say we have the following page :\n",
    "\n",
    "```xml\n",
    "<xml_page attribute_1=\"...\" attribute_2=\"...\">\n",
    "    <xml_line attribute_1=\"...\" attribute_2=\"...\">\n",
    "        <xml_word attribute_1=\"...\" attribute_2=\"...\">Foo</xml_word>\n",
    "        <xml_word attribute_1=\"...\" attribute_2=\"...\">Bar</xml_word>\n",
    "    </xml_line>\n",
    "    <xml_line attribute_1=\"...\" attribute_2=\"...\">\n",
    "        <xml_word attribute_1=\"...\" attribute_2=\"...\">Zig</xml_word>\n",
    "        <xml_word attribute_1=\"...\" attribute_2=\"...\">Zag</xml_word>\n",
    "    </xml_line>\n",
    "</xml_page>\n",
    "```\n",
    "In `xml_page` we have two `xml_line` elements, which themselves contain two `xml_word` elements. If this is already a pain to navigate through, the most vicious issue is still to come. It appears when you try to overlap different layers of text containers. Say you have a region spanning only the n first word of a line. Should your region be a child of the line ? This makes no sense from a global perspective: regions (such as paragraphs) are higher in the hierarchy and should be parent to lines. One could be tempted to create a line for the region, but then an other problem arises: when calling all the lines from a page, should one call the lines from the regions or from the lines directly, as they are now different ? If you think this is complicated enough, let me give another trivial example : what about entities (e.g. named entities) that span over multiple pages. For instance, say we have an entity starting with the two last words of the last line of page n and ends with the first word of the main text of page n+1. Retrieve the words in such an entity demands extrem precision and ridiculously complex chunks of code. In pseudo-python, you would end up with something like `my_entity.words = pages[n].children.lines[-1].children.words[-2:]+page[n+1].children.lines[0].children.words[0]`. And this is even yet a simple case.  What if you have a footnote on page n that you don't want to include ? What if the first line of page n+1 is actually the page number and not the main text ? I let you imagine the kind of recondite code you end up with (`my_entity.words = pages[n].children.find_all(\"regions\", type=\"main_text\")[-1].children.lines[-1].words[-2:]+pages[n+1] ... my_pain.end()`. Not even mentionning the fact that this code is not yet dynamic and that a simple change in page numbering, word alignment or region reading order completely ruins the pipeline.\n",
    "\n",
    "### The advantages of the canonical format\n",
    "\n",
    "To tackle these issues, we come up with a fairly simple canonical format to store our data. Its philosophy and implementation is strikingly easy to fathom: go horizontal ! Instead of having nested and re-nested text containers we collect a global list of words and map every other text container to a word range. And that pretty much it. Here's an example\n",
    "\n",
    "```json\n",
    "{\n",
    "  \"words\" : [{\"text\":\"Foo\", \"attribute_1\":\"...\", \"attribute_2\":\"...\"},\n",
    "             {\"text\":\"Bar\", \"attribute_1\": \"...\", \"attribute_2\":\"...\"},\n",
    "             {\"text\":\"Zig\", \"attribute_1\": \"...\", \"attribute_2\":\"...\"},\n",
    "             {\"text\":\"Zag\", \"attribute_1\": \"...\", \"attribute_2\":\"...\"}],\n",
    "  \"pages\": [{\"word_range\": [0,3]}],\n",
    "  \"lines\": [{\"word_range\": [0,1]},\n",
    "            {\"word_range\": [2,3]}]\n",
    "}\n",
    "```\n",
    "\n",
    "This format comes with a lot of advantages :\n",
    "\n",
    "1. It's a `json`, not an xml. It's easily readable both by humans and machines. You can import it in 2 lines of code and then, well, it's a python `dict`. No weird `bs4` or `etree` objects. They are completely overkill for our purpose and offer nothing that `json`s or `dict`s can't do.\n",
    "2. It solves the nesting and overlapping problem at once. You can have overlapping, nested, renested textcontainers. Important thing is that they can be accessed **horizontally**, simply by finding the other textcontainers with an included or overlapping word range. Same to get a textcontainer's words : simply call `my_tc.words = words[*my_tc.word_range]`.\n",
    "3. It makes redundant information of xmls useless: To get a line's bounding box, you simply concatenate it's words bounding box. This allows to store an entire 400 pages commentary in a ~35MB file, as opposed to ~85MB other OCR outputs (with no information loss and no optimisation on my side), which transitions well to the next point.\n",
    "4.  It is computationnaly efficient. See a simple example here :"
   ],
   "metadata": {
    "collapsed": false
   }
  },
  {
   "cell_type": "code",
   "execution_count": 4,
   "outputs": [
    {
     "name": "stdout",
     "output_type": "stream",
     "text": [
      "Measuring OcrCommentary importation time and manipulation time\n",
      "    Time required by importation and word retrieval: 9.81s\n",
      "    Time required to retrieve the text lines containing decimals: 2.10s\n",
      "\n",
      "Measuring CanonicalCommentary importation time and manipulation time\n",
      "    Time required by importation and word retrieval: 3.07s\n",
      "    Time required to retrieve the text lines containing decimals: 0.23s\n",
      "\n"
     ]
    }
   ],
   "source": [
    "import time\n",
    "import re\n",
    "from ajmc.text_processing.ocr_classes import OcrCommentary\n",
    "from ajmc.text_processing.canonical_classes import CanonicalCommentary\n",
    "\n",
    "\n",
    "def time_commentary_operations(commentary_type):\n",
    "    print(f'Measuring {commentary_type} importation time and manipulation time')\n",
    "\n",
    "    start_time = time.time()\n",
    "    if commentary_type == \"OcrCommentary\":\n",
    "        commentary = OcrCommentary.from_ajmc_structure('/Users/sven/drive/_AJAX/AjaxMultiCommentary/data/commentaries/commentaries_data/sophoclesplaysa05campgoog/ocr/runs/15n06u_lace_base_sophoclesplaysa05campgoog-2021-05-21-19-46-44-porson-2021-05-21-16-43-56/outputs')\n",
    "    else:\n",
    "        commentary = CanonicalCommentary.from_json('/Users/sven/drive/_AJAX/AjaxMultiCommentary/data/commentaries/commentaries_data/sophoclesplaysa05campgoog/canonical/v2/15o09Y_lace_base_sophoclesplaysa05campgoog-2021-05-23-21-38-49-porson-2021-05-23-14-27-27.json')\n",
    "\n",
    "    commentary.children.words\n",
    "    print(\"    Time required by importation and word retrieval: {:.2f}s\".format(time.time() - start_time))\n",
    "\n",
    "    start_time = time.time()\n",
    "    [l.text for l in commentary.children.lines if re.findall(r'[0-9]', l.text)]\n",
    "    print(\"    Time required to retrieve the text lines containing decimals: {:.2f}s\\n\".format(time.time() - start_time))\n",
    "\n",
    "\n",
    "time_commentary_operations('OcrCommentary')\n",
    "time_commentary_operations('CanonicalCommentary')"
   ],
   "metadata": {
    "collapsed": false
   }
  },
  {
   "cell_type": "markdown",
   "source": [
    "5. It allows to deal with multiple versions of the text easily, simply by creating new lists of words and mapping text container customly to any list for any word range (Recall how complicated such an implementation would be if it was to be performed in a nested architecture)."
   ],
   "metadata": {
    "collapsed": false
   }
  },
  {
   "cell_type": "markdown",
   "source": [
    "## Post-processing OCR outputs\n",
    "\n",
    "Now, how does this solves the OCR related issues mentionned above ? These are dealt with in post-processing. `OcrCommentary.to_canonical()` therefore launches two operations under the hood:\n",
    "1. Post-processing OCR.\n",
    "2. Converting to `CanonicalCommentary`.\n",
    "\n",
    "Since we already covered the second step, let us briefly go through the first one. Post-processing the OCR aims at harmonizing text, bounding boxes and relations between text containers. It therefore brings a solution to each of the problems listed above:\n",
    "- It deletes empty words and non words.\n",
    "- It adjusts word bounding boxes to their content using contours detection (`cv2.findContours`)\n",
    "- It adjusts line and regions boxes to the minimal box containing the words (for regions, a `_inclusion_threshold` is used, which, set to 0.8 proves to be quiet robust.\n",
    "- It cuts lines according to regions, so that overlapping lines are now chunked.\n",
    "- It removes empty lines\n",
    "- It resets reading order from the region level downwards (i.e. order regions, then line in each region, then words in each line). The algorithm is also robust. Use `Image.draw_reading_order` to test.\n",
    "\n",
    "All these operations are performed at page level, using `OcrPage.optimise()`, which is itself called internally by `OcrCommentary.to_canonical()`:"
   ],
   "metadata": {
    "collapsed": false
   }
  },
  {
   "cell_type": "code",
   "execution_count": null,
   "outputs": [],
   "source": [
    "can_commentary = OcrCommentary.from_ajmc_structure(ocr_path='../data/sample_commentaries/cu31924087948174/ocr/runs/tess_eng_grc/outputs/cu31924087948174_0035.hocr').to_canonical()"
   ],
   "metadata": {
    "collapsed": false
   }
  },
  {
   "cell_type": "markdown",
   "source": [
    "## Exporting canonical commentaries to json\n",
    "\n",
    "This last step is pretty straightforward:"
   ],
   "metadata": {
    "collapsed": false
   }
  },
  {
   "cell_type": "code",
   "execution_count": null,
   "outputs": [],
   "source": [
    "can_commentary.to_json(output_path=None)"
   ],
   "metadata": {
    "collapsed": false
   }
  },
  {
   "cell_type": "markdown",
   "source": [
    "If `output_path` is not provided, the canonical json will be automatically exported to the location determined by ajmc's directory structure guidelines (i.e. `/base_dir/comm_id/canonical/v2/ocr_run_id.json`). Under the hood, this calls on each `CanonicalTextContainer`s' specific `self.to_json()` method."
   ],
   "metadata": {
    "collapsed": false
   }
  }
 ],
 "metadata": {
  "kernelspec": {
   "display_name": "Python 3",
   "language": "python",
   "name": "python3"
  },
  "language_info": {
   "codemirror_mode": {
    "name": "ipython",
    "version": 2
   },
   "file_extension": ".py",
   "mimetype": "text/x-python",
   "name": "python",
   "nbconvert_exporter": "python",
   "pygments_lexer": "ipython2",
   "version": "2.7.6"
  }
 },
 "nbformat": 4,
 "nbformat_minor": 0
}
