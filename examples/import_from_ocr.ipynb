{
 "cells": [
  {
   "cell_type": "markdown",
   "metadata": {
    "collapsed": true,
    "pycharm": {
     "name": "#%% md\n"
    }
   },
   "source": [
    "### Creating a commentary from ajmc\\'s folder structure\n",
    "\n",
    "You can also create a commentary from the `ocr_dir` of a commentary which is compliant with the project\\'s folder structure. Because all the path selection relies on this structure, declaration is a lot easier."
   ]
  },
  {
   "cell_type": "code",
   "execution_count": null,
   "outputs": [],
   "source": [
    "from ajmc.text_processing.ocr_classes import OcrCommentary\n",
    "\n",
    "comm = Commentary.from_structure(ocr_dir='/abspath/to/base_dir/[comm_id]/ocr/runs/[ocr_run]/outputs')"
   ],
   "metadata": {
    "collapsed": false,
    "pycharm": {
     "name": "#%%\n"
    }
   }
  },
  {
   "cell_type": "markdown",
   "source": [],
   "metadata": {
    "collapsed": false
   }
  },
  {
   "cell_type": "markdown",
   "source": [
    "### `CanonicalCommentary`'s main attributes\n",
    "\n",
    "As a collection of pages, `CanonicalCommentary` objects contain :\n",
    "\n",
    "- Lists of ocr_outputs `Commentary.Pages`, `Commentary.ocr_groundtruth_pages` and `Commentary.olr_groundtruth_pages`.\n",
    "- `Commentary.paths`, a dict containing the most useful paths\n",
    "- `Commentary.via_project` a dict object with information about layout-regions.\n",
    "- `classes.TextElements` such as `regions`, `lines` and `words`.\n",
    "\n",
    "**Note**. All classes contains their respective subelements. Each `Page` contains `regions`, `lines` and `words`, each `OlrRegion` contains `lines` and `words` and each `lines` contains `words`.\n",
    "\n",
    "This provides a simple framework for a wide panel of actions. You can for instance :"
   ],
   "metadata": {
    "collapsed": false,
    "pycharm": {
     "name": "#%% md\n"
    }
   }
  },
  {
   "cell_type": "code",
   "execution_count": null,
   "outputs": [],
   "source": [
    "# Get all the words in the annotated `primary_text`s of a commentary:\n",
    "words = [word.text for region in comm.regions for word in region.children.words if\n",
    "         region.region_type == 'primary_text']\n",
    "# Note that this still takes a bit of time as regions are automatically re-shaped.\n",
    "\n",
    "# Get their counts\n",
    "count = len(words)\n",
    "\n",
    "# Get the pages with at least one annotated `commentary` region\n",
    "count_comm_regions = [p for p in comm.children.pages if any([r.region_type == 'commentary' for r in p.children.regions])]"
   ],
   "metadata": {
    "collapsed": false,
    "pycharm": {
     "name": "#%%\n"
    }
   }
  },
  {
   "cell_type": "markdown",
   "source": [
    "### Getting familiar with textual elements\n",
    "\n",
    "Textual elements are stored in two kinds of objects : `classes.OlrRegion` and `classes.TextElement`. You can:"
   ],
   "metadata": {
    "collapsed": false
   }
  },
  {
   "cell_type": "code",
   "execution_count": null,
   "outputs": [],
   "source": [
    "# Selecting a region randomly\n",
    "region = comm.olr_groundtruth_pages[12].children.regions[0]\n",
    "\n",
    "# Get the region type\n",
    "region.region_type\n",
    "\n",
    "# Get the lines contained in the region\n",
    "region.children.lines\n",
    "\n",
    "# Get the region's image\n",
    "region.image\n",
    "\n",
    "# Get the region's coordinates\n",
    "region.bbox\n",
    "\n",
    "# Get the region's text\n",
    "region.text"
   ],
   "metadata": {
    "collapsed": false,
    "pycharm": {
     "name": "#%%\n"
    }
   }
  },
  {
   "cell_type": "markdown",
   "source": [
    "**Note**. With the exception of `region_type`, all these attributes are shared among `OlrRegion` and `TextElement` (which is the motherclass for lines and words."
   ],
   "metadata": {
    "collapsed": false
   }
  },
  {
   "cell_type": "code",
   "execution_count": null,
   "outputs": [],
   "source": [
    "# Selecting a region randomly\n",
    "region = comm.olr_groundtruth_pages[12].children.regions[0]\n",
    "\n",
    "# Get the region type\n",
    "region.region_type\n",
    "\n",
    "# Get the lines contained in the region\n",
    "region.children.lines\n",
    "\n",
    "# Get the region's image\n",
    "region.image\n",
    "\n",
    "# Get the region's coordinates\n",
    "region.bbox\n",
    "\n",
    "# Get the region's text\n",
    "region.text"
   ],
   "metadata": {
    "collapsed": false,
    "pycharm": {
     "name": "#%%\n"
    }
   }
  },
  {
   "cell_type": "code",
   "execution_count": null,
   "outputs": [],
   "source": [],
   "metadata": {
    "collapsed": false,
    "pycharm": {
     "name": "#%%\n"
    }
   }
  }
 ],
 "metadata": {
  "kernelspec": {
   "display_name": "Python 3",
   "language": "python",
   "name": "python3"
  },
  "language_info": {
   "codemirror_mode": {
    "name": "ipython",
    "version": 2
   },
   "file_extension": ".py",
   "mimetype": "text/x-python",
   "name": "python",
   "nbconvert_exporter": "python",
   "pygments_lexer": "ipython2",
   "version": "2.7.6"
  }
 },
 "nbformat": 4,
 "nbformat_minor": 0
}