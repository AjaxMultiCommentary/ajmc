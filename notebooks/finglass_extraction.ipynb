{
 "cells": [
  {
   "cell_type": "markdown",
   "source": [
    "# Interesting sources\n",
    "\n",
    "- https://towardsdatascience.com/how-to-extract-text-from-pdf-245482a96de7\n",
    "- See also : https://superuser.com/questions/92615/cannot-copy-non-latin-characters-from-pdf-document\n",
    "\n",
    "\n",
    "# Key takeways\n",
    "\n",
    "Reading [The PDF 1.3 guidelines](https://opensource.adobe.com/dc-acrobat-sdk-docs/pdfstandards/pdfreference1.3.pdf), it looks like PDF only supports 8-bits encodings (i.e. 256 chars), which, however, can be modified by custom tables of correspondances between codes and glyphs. Also note that each div can have its own encoding, which allows for a great flexibility (at the price of a high complexity). In our case, the encodings are custom... (see acrobat > file > properties > fonts)\n",
    "\n",
    "I think that Acrobat should be the best tool to use here, as the guidelines are defined by adobe themselves. However, I can't explain why adobe succeeds in rendering the file but fails exporting plain text.\n",
    "\n",
    "Note: pdf should be _tagged_ (i.e. have an explicit conversion map) in order to be easily exported. It is not the case with ours.\n"
   ],
   "metadata": {
    "collapsed": false
   }
  },
  {
   "cell_type": "markdown",
   "source": [
    "# Try with adobe acrobat\n",
    "\n",
    "## I first tried to export **plain text** :\n",
    "- export UTF-8 --> fails\n",
    "- export latin-1 --> fails\n",
    "- export UTF-16 --> fails\n",
    "- export ucs-4 --> fails\n",
    "- In all the cases above, acrobat crashes before export.\n",
    "\n",
    "## I then tried to export to various other formats (.rtf, .xml ...) with the same encodings :\n",
    "\n",
    "- all failed rendering greek chars"
   ],
   "metadata": {
    "collapsed": false
   }
  },
  {
   "cell_type": "markdown",
   "source": [
    "# Try with python librairies\n",
    "\n",
    "## Using pdfplumber # ❌ fails on greek chars"
   ],
   "metadata": {
    "collapsed": false
   }
  },
  {
   "cell_type": "code",
   "execution_count": null,
   "outputs": [],
   "source": [
    "path = \"/Users/sven/drive/_AJAX/AjaxMultiCommentary/data/commentaries/commentaries_data/Finglass2011/images/pdf/Finglass2011.pdf\"\n",
    "path_test = '/Users/sven/Desktop/Finglass2011_p24.pdf'"
   ],
   "metadata": {
    "collapsed": false,
    "pycharm": {
     "name": "#%%\n"
    }
   }
  },
  {
   "cell_type": "code",
   "execution_count": null,
   "outputs": [],
   "source": [
    "import pdfplumber\n",
    "\n",
    "pages = []\n",
    "words = []\n",
    "with pdfplumber.open(path) as pdf:\n",
    "\n",
    "    for i in range(24,25):\n",
    "        print(i)\n",
    "        pages.append(pdf.pages[i].extract_text())\n",
    "        words.append(pdf.pages[i].extract_words())"
   ],
   "metadata": {
    "collapsed": false,
    "pycharm": {
     "name": "#%%\n"
    }
   }
  },
  {
   "cell_type": "markdown",
   "source": [
    "## Using pdfminer.six # ❌ fails on greek chars"
   ],
   "metadata": {
    "collapsed": false
   }
  },
  {
   "cell_type": "code",
   "execution_count": null,
   "outputs": [],
   "source": [
    "from pdfminer.high_level import extract_text\n",
    "text = extract_text(path_test, codec='')\n",
    "\n",
    "utf = text.encode('utf-8')"
   ],
   "metadata": {
    "collapsed": false,
    "pycharm": {
     "name": "#%%\n"
    }
   }
  },
  {
   "cell_type": "markdown",
   "source": [
    "# Try opening the binary file directly and decode manually"
   ],
   "metadata": {
    "collapsed": false
   }
  },
  {
   "cell_type": "code",
   "execution_count": null,
   "outputs": [],
   "source": [
    "with open(path_test, 'rb') as f:\n",
    "    text = f.read()\n",
    "\n",
    "\n",
    "# text_utf = text.decode('utf-8') # fails\n",
    "text_utf = text.decode('latin-1') # succeeds, but misses greek chars (unsurprisingly).\n",
    "\n"
   ],
   "metadata": {
    "collapsed": false,
    "pycharm": {
     "name": "#%%\n"
    }
   }
  },
  {
   "cell_type": "markdown",
   "source": [
    "# Conclusion :\n",
    "\n",
    "I see two possibility :\n",
    "\n",
    "1. Asking the publisher / the author directly for the source text as a curtesy to the project.\n",
    "2. OCRing the text, possibly with automatically generated groundtruth.\n"
   ],
   "metadata": {
    "collapsed": false
   }
  }
 ],
 "metadata": {
  "kernelspec": {
   "display_name": "Python 3",
   "language": "python",
   "name": "python3"
  },
  "language_info": {
   "codemirror_mode": {
    "name": "ipython",
    "version": 2
   },
   "file_extension": ".py",
   "mimetype": "text/x-python",
   "name": "python",
   "nbconvert_exporter": "python",
   "pygments_lexer": "ipython2",
   "version": "2.7.6"
  }
 },
 "nbformat": 4,
 "nbformat_minor": 0
}