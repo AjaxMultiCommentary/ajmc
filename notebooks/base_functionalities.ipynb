{
 "cells": [
  {
   "cell_type": "markdown",
   "source": [
    "# Presentation\n",
    "\n",
    "`ajmc` provides a simple framework to deal with the projects data. It can be used to compute stats, to evaluate an ocr output or simply to navigate through the data."
   ],
   "metadata": {
    "collapsed": false,
    "pycharm": {
     "name": "#%% md\n"
    }
   }
  },
  {
   "cell_type": "markdown",
   "source": [
    "## Navigate through the data\n",
    "\n",
    "### Creating a canonical commentary\n",
    "\n",
    "The simplest to navigate through a commentary is to instantiate a `text_processing.canonical_classes.CanonicalCommentary`. This object relies on an canonical json, which is an standardised and optimised storing format ocr outputs."
   ],
   "metadata": {
    "collapsed": false
   }
  },
  {
   "cell_type": "code",
   "execution_count": null,
   "outputs": [],
   "source": [
    "from ajmc.text_processing.canonical_classes import CanonicalCommentary\n",
    "\n",
    "comm = CanonicalCommentary.from_json(json_path='/base_dir/comm_id/canonical/v2/your_run.json')"
   ],
   "metadata": {
    "collapsed": false,
    "pycharm": {
     "name": "#%%\n"
    }
   }
  },
  {
   "cell_type": "markdown",
   "source": [
    "**Note**. This assumes you are creating a commentary a commentary compliant with ajmc's file structure. If you want to use custom paths to images, ocr-outputs or via files, please consider creating a `ajmc.text_processing.ocr_classes.OcrCommentary` (see `examples/import_from_ocr.ipynb`)"
   ],
   "metadata": {
    "collapsed": false,
    "pycharm": {
     "name": "#%% md\n"
    }
   }
  },
  {
   "cell_type": "markdown",
   "source": [
    "### The main functionalities of a `CanonicalCommentary`\n",
    "\n",
    "`CanonicalCommentary` are a particular case of the more generic `CanonicalTextContainer`. They have children (like `page`s, `region`s, `line`s, and `word`s) which are also `CanonicalTextContainer`s. They also have images and text. Let us have a look !\n",
    "\n"
   ],
   "metadata": {
    "collapsed": false
   }
  },
  {
   "cell_type": "code",
   "execution_count": null,
   "outputs": [],
   "source": [
    "# Get a commentary's pages:\n",
    "comm.children.pages\n",
    "\n",
    "# Get a commentary's regions\n",
    "comm.children.regions\n",
    "\n",
    "# Get only the commentary's primary text regions\n",
    "[r for r in comm.children.regions if r.info['region_type']=='primary_text']\n",
    "\n",
    "\n",
    "# Select app_crits of 140th to 160th page\n",
    "[r for p in comm.children.pages[139:159] for r in p.children.regions if r.info['region_type']=='app_crit']"
   ],
   "metadata": {
    "collapsed": false,
    "pycharm": {
     "name": "#%%\n"
    }
   }
  },
  {
   "cell_type": "markdown",
   "source": [
    "### Other text containers\n",
    "\n",
    "Note that page-level containers like the one mentionned above also have other attributes like bounding boxes `self.bbox` and `parent`."
   ],
   "metadata": {
    "collapsed": false
   }
  },
  {
   "cell_type": "code",
   "execution_count": null,
   "outputs": [],
   "source": [
    "# Get a single page by it's id\n",
    "page = [p for p in comm.children.pages if p.id == 'sophoclesplaysa05campgoog_0146'][0]\n",
    "\n",
    "# Get the page's image\n",
    "page.image\n",
    "\n",
    "# Get of the page's first commentary-region\n",
    "region = [r for r in page.children.regions if r.info['region_type']=='commentary'][0]\n",
    "\n",
    "# Get its text\n",
    "region.text\n",
    "\n",
    "# Count the number of lines in a region\n",
    "len(region.children.lines)\n",
    "\n",
    "# Get the coordinates of the region\n",
    "region.bbox\n",
    "\n",
    "# Get the average numbers of chars in line number regions\n",
    "page_numbers = [r for r in comm.children.regions if r.info['region_type']=='page_number']\n",
    "sum([len(r.text) for r in page_numbers])/len(page_numbers)\n"
   ],
   "metadata": {
    "collapsed": false,
    "pycharm": {
     "name": "#%%\n"
    }
   }
  },
  {
   "cell_type": "markdown",
   "source": [
    "For more information, the code documentation of `canonical_classes.py` is quiet furnished."
   ],
   "metadata": {
    "collapsed": false,
    "pycharm": {
     "name": "#%% md\n"
    }
   }
  }
 ],
 "metadata": {
  "kernelspec": {
   "display_name": "Python 3",
   "language": "python",
   "name": "python3"
  },
  "language_info": {
   "codemirror_mode": {
    "name": "ipython",
    "version": 2
   },
   "file_extension": ".py",
   "mimetype": "text/x-python",
   "name": "python",
   "nbconvert_exporter": "python",
   "pygments_lexer": "ipython2",
   "version": "2.7.6"
  }
 },
 "nbformat": 4,
 "nbformat_minor": 0
}
