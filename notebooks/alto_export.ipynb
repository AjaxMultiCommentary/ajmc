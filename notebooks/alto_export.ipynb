{
 "cells": [
  {
   "attachments": {},
   "cell_type": "markdown",
   "metadata": {},
   "source": [
    "**TLDR;** In this notebook we use the `ajmc` library to export one test commentary from canonical to Alto/XML format. The export currently works for GT pages but not for non-GT pages (run the code below to see the raised exception).\n",
    "\n",
    "**NB**: [This PR](https://github.com/AjaxMultiCommentary/ajmc/pull/10) needs to be merged in order for this notebook to work. "
   ]
  },
  {
   "cell_type": "markdown",
   "metadata": {
    "id": "rXLUehRrvSyw"
   },
   "source": [
    "## Mount Drive and set PATHS \n"
   ]
  },
  {
   "cell_type": "code",
   "execution_count": 2,
   "metadata": {
    "colab": {
     "base_uri": "https://localhost:8080/"
    },
    "executionInfo": {
     "elapsed": 29195,
     "status": "ok",
     "timestamp": 1662618726301,
     "user": {
      "displayName": "Matteo Romanello",
      "userId": "09570579360933454703"
     },
     "user_tz": -120
    },
    "id": "6XNlFvYGU_Hk",
    "outputId": "65968fb8-1ef0-41f3-b832-83e845f73d04"
   },
   "outputs": [],
   "source": [
    "import ipdb\n",
    "import ajmc\n",
    "from ajmc.commons import variables"
   ]
  },
  {
   "cell_type": "code",
   "execution_count": null,
   "metadata": {},
   "outputs": [],
   "source": [
    "from google.colab import drive\n",
    "drive.mount('/content/gdrive')"
   ]
  },
  {
   "cell_type": "code",
   "execution_count": 24,
   "metadata": {},
   "outputs": [
    {
     "data": {
      "text/plain": [
       "PosixPath('/Users/matteo/Google Drive/My Drive/AjaxMultiCommentary')"
      ]
     },
     "execution_count": 24,
     "metadata": {},
     "output_type": "execute_result"
    }
   ],
   "source": [
    "# ⚠️ change this according to your local settings\n",
    "variables.DRIVE_BASE_DIR"
   ]
  },
  {
   "cell_type": "code",
   "execution_count": 4,
   "metadata": {
    "id": "trRVzCyfvs0k"
   },
   "outputs": [],
   "source": [
    "# variables.PATHS['drive_base_dir'] = \"/content/gdrive/MyDrive/AjaxMultiCommentary/data/commentaries/commentaries_data\""
   ]
  },
  {
   "attachments": {},
   "cell_type": "markdown",
   "metadata": {},
   "source": [
    "## Custom functions"
   ]
  },
  {
   "cell_type": "code",
   "execution_count": 18,
   "metadata": {},
   "outputs": [],
   "source": [
    "import urllib.request, json, os\n",
    "\n",
    "def extract_commentary_runs_from_config(config_file_url):\n",
    "  \n",
    "  with urllib.request.urlopen(config_file_url) as url:\n",
    "    config_dict = json.load(url)\n",
    "\n",
    "  return {\n",
    "    t[0] : t[1]\n",
    "    for t in\n",
    "    set(\n",
    "          [\n",
    "            (comm['id'], comm['run'])\n",
    "            for comm in config_dict['data']['eval'] + config_dict['data']['train']\n",
    "          ]\n",
    "    )\n",
    "  }"
   ]
  },
  {
   "cell_type": "code",
   "execution_count": 19,
   "metadata": {},
   "outputs": [],
   "source": [
    "import os\n",
    "import pathlib\n",
    "import shutil\n",
    "from typing import List, Dict\n",
    "from ajmc.commons.file_management import read_google_sheet\n",
    "from ajmc.commons.variables import ALL_COMM_IDS, EXTERNAL_COMM_IDS, PD_COMM_IDS\n",
    "from ajmc.commons.variables import REGION_TYPES_TO_SEGMONTO, SEGMONTO_TO_VALUE_IDS\n",
    "from ajmc.text_processing.canonical_classes import CanonicalCommentary\n",
    "\n",
    "def export_segmonto_alto(canonical_json_path : str, output_base_path : str, groundtruth_only : bool = False):\n",
    "\n",
    "    # Get the commentary\n",
    "    comm = CanonicalCommentary.from_json(canonical_json_path)\n",
    "\n",
    "    if groundtruth_only:\n",
    "      # ⚠️ Get the list of groundtruth pages ONLY (remember that `commentary` zones are annotated on all pages !)\n",
    "      olr_gt_df = read_google_sheet(variables.SPREADSHEETS['olr_gt'], 'olr_gt')\n",
    "      gt_pages_ids = list(olr_gt_df['page_id'][olr_gt_df['commentary_id']==comm.id])\n",
    "      selected_pages = comm.ocr_gt_pages\n",
    "      print(f\"There are {len(selected_pages)} GT pages in {comm.id}\")\n",
    "    else:\n",
    "      selected_pages = [p for p in comm.children.pages]\n",
    "\n",
    "\n",
    "    # Create a sub-folder for the commentary if it does not exist\n",
    "    commentary_export_path = pathlib.Path(output_base_path) / comm.id\n",
    "    commentary_export_path.mkdir(exist_ok=True, parents=True)\n",
    "    alto_export_path = commentary_export_path / \"alto\"\n",
    "    images_export_path = commentary_export_path / \"images\"\n",
    "    alto_export_path.mkdir(exist_ok=True, parents=True)\n",
    "    images_export_path.mkdir(exist_ok=True, parents=True)\n",
    "\n",
    "    # Dump the Alto/XML for selected GT pages\n",
    "    pages_to_alto(selected_pages, alto_export_path)\n",
    "    shutil.make_archive(commentary_export_path / \"alto_files\", 'zip', alto_export_path)\n",
    "    copy_page_images(selected_pages, images_export_path)\n",
    "    shutil.make_archive(commentary_export_path / \"images\", 'zip', images_export_path)\n",
    "    return\n",
    "\n",
    "def copy_page_images(pages, target_base_dir):\n",
    "  for page in pages:\n",
    "    page_image_fname = f\"{page.id}.png\"\n",
    "    page_image_path = variables.COMMS_DATA_DIR / page.parents.commentary.id / variables.COMM_IMG_REL_DIR / page_image_fname\n",
    "    copy_image_path = os.path.join(target_base_dir, page_image_fname)\n",
    "    shutil.copy(page_image_path, copy_image_path)\n",
    "\n",
    "def pages_to_alto(pages, output_path : str):\n",
    "  \"\"\"\n",
    "  This custom function is needed because right now the `CanonicalCommentary.to_alto()`\n",
    "  method does not allow for specifying a subset of the pages to export. \n",
    "  \"\"\"\n",
    "  for page in pages:\n",
    "    page.to_alto(\n",
    "      children_types = ['regions', 'lines', 'words'],\n",
    "      region_types_mapping=REGION_TYPES_TO_SEGMONTO,\n",
    "      region_types_ids=SEGMONTO_TO_VALUE_IDS,\n",
    "      output_path=output_path / (page.id + '.xml')\n",
    "    )\n",
    "\n",
    "\n",
    "def export_dataset(commentary_run_dict : Dict, dataset_path : pathlib.Path, groundtruth_only : bool = False):\n",
    "  \n",
    "  # iterate through commentary IDs\n",
    "  for comm_id in list(commentary_run_dict.keys()):\n",
    "    \n",
    "    # reconstruct the path to the canonical JSON\n",
    "    # for a given OCR run of a commentary\n",
    "    canonical_json_path = os.path.join(\n",
    "        variables.COMMS_DATA_DIR,\n",
    "        comm_id, variables.COMM_CANONICAL_V1_REL_DIR,\n",
    "        f\"{commentary_run_dict[comm_id]}.json\"\n",
    "    )\n",
    "    export_segmonto_alto(canonical_json_path, dataset_path, groundtruth_only=groundtruth_only)"
   ]
  },
  {
   "cell_type": "markdown",
   "metadata": {
    "id": "paNntwmYxHAI"
   },
   "source": [
    "## Fetch commentary runs"
   ]
  },
  {
   "cell_type": "code",
   "execution_count": 6,
   "metadata": {
    "id": "92ygEIf8kws0"
   },
   "outputs": [],
   "source": [
    "# Take the layoutlm config file for the omnibus experiment\n",
    "# since this should/will contain all commentary and run IDs\n",
    "omnibus_config_path = \"https://raw.githubusercontent.com/AjaxMultiCommentary/ajmc/main/data/layoutlm/configs/4A_omnibus_base.json\"\n",
    "omnibus_external_config_path = \"https://raw.githubusercontent.com/AjaxMultiCommentary/ajmc/main/data/layoutlm/configs/4B_omnibus_external.json\""
   ]
  },
  {
   "cell_type": "code",
   "execution_count": 8,
   "metadata": {
    "id": "GUp8d7_LlK-e"
   },
   "outputs": [],
   "source": [
    "internal_commentary_runs = extract_commentary_runs_from_config(omnibus_config_path)"
   ]
  },
  {
   "cell_type": "code",
   "execution_count": 9,
   "metadata": {
    "id": "Pjz25nHUs7j-"
   },
   "outputs": [],
   "source": [
    "external_commentary_runs = extract_commentary_runs_from_config(omnibus_external_config_path)"
   ]
  },
  {
   "cell_type": "code",
   "execution_count": 10,
   "metadata": {
    "id": "2_L2dV31zy0X"
   },
   "outputs": [],
   "source": [
    "#internal_commentary_runs"
   ]
  },
  {
   "cell_type": "code",
   "execution_count": 63,
   "metadata": {
    "id": "6h_UfDoGs_1N"
   },
   "outputs": [],
   "source": [
    "#external_commentary_runs"
   ]
  },
  {
   "attachments": {},
   "cell_type": "markdown",
   "metadata": {
    "id": "AX4jSrfA0HWy"
   },
   "source": [
    "## Export to Alto/XML"
   ]
  },
  {
   "cell_type": "code",
   "execution_count": 20,
   "metadata": {
    "id": "nrcURSp5GPng"
   },
   "outputs": [],
   "source": [
    "# ⚠️ change this according to your local settings\n",
    "output_dir = pathlib.Path(\"/Users/matteo/Downloads/segmonto_dataset_export/\")"
   ]
  },
  {
   "cell_type": "code",
   "execution_count": 13,
   "metadata": {
    "id": "V1AH-hebeXfG"
   },
   "outputs": [],
   "source": [
    "pd_internal_commentary_runs = {\n",
    "    comm_id: run\n",
    "    for comm_id, run in internal_commentary_runs.items()\n",
    "    if comm_id in PD_COMM_IDS\n",
    "}"
   ]
  },
  {
   "attachments": {},
   "cell_type": "markdown",
   "metadata": {},
   "source": [
    "Pick one sample commentary to test the Alto/XML export:"
   ]
  },
  {
   "cell_type": "code",
   "execution_count": 21,
   "metadata": {
    "id": "m5txD2xqzdVI"
   },
   "outputs": [],
   "source": [
    "debugging_sample = {\n",
    "  v[0]: v[1]\n",
    "  for v in list(internal_commentary_runs.items())[1:2]\n",
    "}"
   ]
  },
  {
   "cell_type": "code",
   "execution_count": 22,
   "metadata": {},
   "outputs": [
    {
     "data": {
      "text/plain": [
       "{'Untersteiner1934': '28r0XU_tess_base'}"
      ]
     },
     "execution_count": 22,
     "metadata": {},
     "output_type": "execute_result"
    }
   ],
   "source": [
    "debugging_sample"
   ]
  },
  {
   "attachments": {},
   "cell_type": "markdown",
   "metadata": {},
   "source": [
    "🟢 Export only GT pages (works):"
   ]
  },
  {
   "cell_type": "code",
   "execution_count": 17,
   "metadata": {
    "colab": {
     "base_uri": "https://localhost:8080/"
    },
    "executionInfo": {
     "elapsed": 46445,
     "status": "ok",
     "timestamp": 1662621439360,
     "user": {
      "displayName": "Matteo Romanello",
      "userId": "09570579360933454703"
     },
     "user_tz": -120
    },
    "id": "-YAkWzkpz9rE",
    "outputId": "01564e97-e5b3-415a-e0dc-cbd82164714a"
   },
   "outputs": [
    {
     "name": "stderr",
     "output_type": "stream",
     "text": [
      "WARNING - ajmc.text_processing.canonical_classes -   The provided `json_path` (/Users/matteo/Google Drive/My Drive/AjaxMultiCommentary/data/commentaries/commentaries_data/Untersteiner1934/canonical/28r0XU_tess_base.json) is not compliant with ajmc's folder structure.\n"
     ]
    },
    {
     "name": "stdout",
     "output_type": "stream",
     "text": [
      "There are 5 GT pages in Untersteiner1934\n"
     ]
    }
   ],
   "source": [
    "export_dataset(debugging_sample, output_dir, groundtruth_only=True)"
   ]
  },
  {
   "attachments": {},
   "cell_type": "markdown",
   "metadata": {},
   "source": [
    "🔴 Export all pages, also non-GT ones (does not work):"
   ]
  },
  {
   "cell_type": "code",
   "execution_count": 23,
   "metadata": {},
   "outputs": [
    {
     "name": "stderr",
     "output_type": "stream",
     "text": [
      "WARNING - ajmc.text_processing.canonical_classes -   The provided `json_path` (/Users/matteo/Google Drive/My Drive/AjaxMultiCommentary/data/commentaries/commentaries_data/Untersteiner1934/canonical/28r0XU_tess_base.json) is not compliant with ajmc's folder structure.\n"
     ]
    },
    {
     "ename": "ValueError",
     "evalue": "min() arg is an empty sequence",
     "output_type": "error",
     "traceback": [
      "\u001B[0;31m---------------------------------------------------------------------------\u001B[0m",
      "\u001B[0;31mValueError\u001B[0m                                Traceback (most recent call last)",
      "Cell \u001B[0;32mIn[23], line 1\u001B[0m\n\u001B[0;32m----> 1\u001B[0m export_dataset(debugging_sample, output_dir, groundtruth_only\u001B[39m=\u001B[39;49m\u001B[39mFalse\u001B[39;49;00m)\n",
      "Cell \u001B[0;32mIn[19], line 73\u001B[0m, in \u001B[0;36mexport_dataset\u001B[0;34m(commentary_run_dict, dataset_path, groundtruth_only)\u001B[0m\n\u001B[1;32m     64\u001B[0m \u001B[39mfor\u001B[39;00m comm_id \u001B[39min\u001B[39;00m \u001B[39mlist\u001B[39m(commentary_run_dict\u001B[39m.\u001B[39mkeys()):\n\u001B[1;32m     65\u001B[0m   \n\u001B[1;32m     66\u001B[0m   \u001B[39m# reconstruct the path to the canonical JSON\u001B[39;00m\n\u001B[1;32m     67\u001B[0m   \u001B[39m# for a given OCR run of a commentary\u001B[39;00m\n\u001B[1;32m     68\u001B[0m   canonical_json_path \u001B[39m=\u001B[39m os\u001B[39m.\u001B[39mpath\u001B[39m.\u001B[39mjoin(\n\u001B[1;32m     69\u001B[0m       variables\u001B[39m.\u001B[39mCOMMS_DATA_DIR,\n\u001B[1;32m     70\u001B[0m       comm_id, variables\u001B[39m.\u001B[39mCOMM_CANONICAL_V1_REL_DIR,\n\u001B[1;32m     71\u001B[0m       \u001B[39mf\u001B[39m\u001B[39m\"\u001B[39m\u001B[39m{\u001B[39;00mcommentary_run_dict[comm_id]\u001B[39m}\u001B[39;00m\u001B[39m.json\u001B[39m\u001B[39m\"\u001B[39m\n\u001B[1;32m     72\u001B[0m   )\n\u001B[0;32m---> 73\u001B[0m   export_segmonto_alto(canonical_json_path, dataset_path, groundtruth_only\u001B[39m=\u001B[39;49mgroundtruth_only)\n",
      "Cell \u001B[0;32mIn[19], line 34\u001B[0m, in \u001B[0;36mexport_segmonto_alto\u001B[0;34m(canonical_json_path, output_base_path, groundtruth_only)\u001B[0m\n\u001B[1;32m     31\u001B[0m images_export_path\u001B[39m.\u001B[39mmkdir(exist_ok\u001B[39m=\u001B[39m\u001B[39mTrue\u001B[39;00m, parents\u001B[39m=\u001B[39m\u001B[39mTrue\u001B[39;00m)\n\u001B[1;32m     33\u001B[0m \u001B[39m# Dump the Alto/XML for selected GT pages\u001B[39;00m\n\u001B[0;32m---> 34\u001B[0m pages_to_alto(selected_pages, alto_export_path)\n\u001B[1;32m     35\u001B[0m shutil\u001B[39m.\u001B[39mmake_archive(commentary_export_path \u001B[39m/\u001B[39m \u001B[39m\"\u001B[39m\u001B[39malto_files\u001B[39m\u001B[39m\"\u001B[39m, \u001B[39m'\u001B[39m\u001B[39mzip\u001B[39m\u001B[39m'\u001B[39m, alto_export_path)\n\u001B[1;32m     36\u001B[0m copy_page_images(selected_pages, images_export_path)\n",
      "Cell \u001B[0;32mIn[19], line 53\u001B[0m, in \u001B[0;36mpages_to_alto\u001B[0;34m(pages, output_path)\u001B[0m\n\u001B[1;32m     48\u001B[0m \u001B[39m\u001B[39m\u001B[39m\"\"\"\u001B[39;00m\n\u001B[1;32m     49\u001B[0m \u001B[39mThis custom function is needed because right now the `CanonicalCommentary.to_alto()`\u001B[39;00m\n\u001B[1;32m     50\u001B[0m \u001B[39mmethod does not allow for specifying a subset of the pages to export. \u001B[39;00m\n\u001B[1;32m     51\u001B[0m \u001B[39m\"\"\"\u001B[39;00m\n\u001B[1;32m     52\u001B[0m \u001B[39mfor\u001B[39;00m page \u001B[39min\u001B[39;00m pages:\n\u001B[0;32m---> 53\u001B[0m   page\u001B[39m.\u001B[39;49mto_alto(\n\u001B[1;32m     54\u001B[0m     children_types \u001B[39m=\u001B[39;49m [\u001B[39m'\u001B[39;49m\u001B[39mregions\u001B[39;49m\u001B[39m'\u001B[39;49m, \u001B[39m'\u001B[39;49m\u001B[39mlines\u001B[39;49m\u001B[39m'\u001B[39;49m, \u001B[39m'\u001B[39;49m\u001B[39mwords\u001B[39;49m\u001B[39m'\u001B[39;49m],\n\u001B[1;32m     55\u001B[0m     region_types_mapping\u001B[39m=\u001B[39;49mREGION_TYPES_TO_SEGMONTO,\n\u001B[1;32m     56\u001B[0m     region_types_ids\u001B[39m=\u001B[39;49mSEGMONTO_TO_VALUE_IDS,\n\u001B[1;32m     57\u001B[0m     output_path\u001B[39m=\u001B[39;49moutput_path \u001B[39m/\u001B[39;49m (page\u001B[39m.\u001B[39;49mid \u001B[39m+\u001B[39;49m \u001B[39m'\u001B[39;49m\u001B[39m.xml\u001B[39;49m\u001B[39m'\u001B[39;49m)\n\u001B[1;32m     58\u001B[0m   )\n",
      "File \u001B[0;32m~/Dropbox/My Mac (MacBook-Pro-9.local)/Documents/AjaxMultiCommentary/ajmc-tools/ajmc/text_processing/canonical_classes.py:245\u001B[0m, in \u001B[0;36mCanonicalPage.to_alto\u001B[0;34m(self, children_types, region_types_mapping, region_types_ids, output_path, regions_types)\u001B[0m\n\u001B[1;32m    242\u001B[0m template \u001B[39m=\u001B[39m env\u001B[39m.\u001B[39mget_template(\u001B[39m'\u001B[39m\u001B[39malto.xml.jinja2\u001B[39m\u001B[39m'\u001B[39m)\n\u001B[1;32m    244\u001B[0m \u001B[39m# xml_formatter = xmlformatter.Formatter(indent=\"1\", indent_char=\"\\t\", encoding_output=\"UTF-8\", correct=True)\u001B[39;00m\n\u001B[0;32m--> 245\u001B[0m alto_xml_data \u001B[39m=\u001B[39m template\u001B[39m.\u001B[39;49mrender(page\u001B[39m=\u001B[39;49m\u001B[39mself\u001B[39;49m,\n\u001B[1;32m    246\u001B[0m                                 children_types\u001B[39m=\u001B[39;49mchildren_types,\n\u001B[1;32m    247\u001B[0m                                 region_types\u001B[39m=\u001B[39;49mregions_types,\n\u001B[1;32m    248\u001B[0m                                 region_types_mapping\u001B[39m=\u001B[39;49mregion_types_mapping,\n\u001B[1;32m    249\u001B[0m                                 region_types_ids\u001B[39m=\u001B[39;49mregion_types_ids)\n\u001B[1;32m    250\u001B[0m output_path\u001B[39m.\u001B[39mwrite_text(alto_xml_data, encoding\u001B[39m=\u001B[39m\u001B[39m'\u001B[39m\u001B[39mutf-8\u001B[39m\u001B[39m'\u001B[39m)\n",
      "File \u001B[0;32m~/.pyenv/versions/3.10.0/envs/ajmc-tools/lib/python3.10/site-packages/jinja2/environment.py:1301\u001B[0m, in \u001B[0;36mTemplate.render\u001B[0;34m(self, *args, **kwargs)\u001B[0m\n\u001B[1;32m   1299\u001B[0m     \u001B[39mreturn\u001B[39;00m \u001B[39mself\u001B[39m\u001B[39m.\u001B[39menvironment\u001B[39m.\u001B[39mconcat(\u001B[39mself\u001B[39m\u001B[39m.\u001B[39mroot_render_func(ctx))  \u001B[39m# type: ignore\u001B[39;00m\n\u001B[1;32m   1300\u001B[0m \u001B[39mexcept\u001B[39;00m \u001B[39mException\u001B[39;00m:\n\u001B[0;32m-> 1301\u001B[0m     \u001B[39mself\u001B[39;49m\u001B[39m.\u001B[39;49menvironment\u001B[39m.\u001B[39;49mhandle_exception()\n",
      "File \u001B[0;32m~/.pyenv/versions/3.10.0/envs/ajmc-tools/lib/python3.10/site-packages/jinja2/environment.py:936\u001B[0m, in \u001B[0;36mEnvironment.handle_exception\u001B[0;34m(self, source)\u001B[0m\n\u001B[1;32m    931\u001B[0m \u001B[39m\u001B[39m\u001B[39m\"\"\"Exception handling helper.  This is used internally to either raise\u001B[39;00m\n\u001B[1;32m    932\u001B[0m \u001B[39mrewritten exceptions or return a rendered traceback for the template.\u001B[39;00m\n\u001B[1;32m    933\u001B[0m \u001B[39m\"\"\"\u001B[39;00m\n\u001B[1;32m    934\u001B[0m \u001B[39mfrom\u001B[39;00m \u001B[39m.\u001B[39;00m\u001B[39mdebug\u001B[39;00m \u001B[39mimport\u001B[39;00m rewrite_traceback_stack\n\u001B[0;32m--> 936\u001B[0m \u001B[39mraise\u001B[39;00m rewrite_traceback_stack(source\u001B[39m=\u001B[39msource)\n",
      "File \u001B[0;32m~/Dropbox/My Mac (MacBook-Pro-9.local)/Documents/AjaxMultiCommentary/ajmc-tools/ajmc/data/templates/alto.xml.jinja2:23\u001B[0m, in \u001B[0;36mtop-level template code\u001B[0;34m()\u001B[0m\n\u001B[1;32m     21\u001B[0m   ID=\"{{ page.id }}\"\n\u001B[1;32m     22\u001B[0m   PHYSICAL_IMG_NR=\"{{ page.id.split('_')[-1] }}\">\n\u001B[0;32m---> 23\u001B[0m <PrintSpace HPOS=\"0\" VPOS=\"0\" WIDTH=\"{{ page.bbox.width }}\" HEIGHT=\"{{ page.bbox.height }}\">\n\u001B[1;32m     24\u001B[0m     {% if 'regions' in children_types %}\n\u001B[1;32m     25\u001B[0m         {% for r in page.children.regions %}\n",
      "File \u001B[0;32m~/.pyenv/versions/3.10.0/envs/ajmc-tools/lib/python3.10/site-packages/jinja2/environment.py:485\u001B[0m, in \u001B[0;36mEnvironment.getattr\u001B[0;34m(self, obj, attribute)\u001B[0m\n\u001B[1;32m    481\u001B[0m \u001B[39m\u001B[39m\u001B[39m\"\"\"Get an item or attribute of an object but prefer the attribute.\u001B[39;00m\n\u001B[1;32m    482\u001B[0m \u001B[39mUnlike :meth:`getitem` the attribute *must* be a string.\u001B[39;00m\n\u001B[1;32m    483\u001B[0m \u001B[39m\"\"\"\u001B[39;00m\n\u001B[1;32m    484\u001B[0m \u001B[39mtry\u001B[39;00m:\n\u001B[0;32m--> 485\u001B[0m     \u001B[39mreturn\u001B[39;00m \u001B[39mgetattr\u001B[39;49m(obj, attribute)\n\u001B[1;32m    486\u001B[0m \u001B[39mexcept\u001B[39;00m \u001B[39mAttributeError\u001B[39;00m:\n\u001B[1;32m    487\u001B[0m     \u001B[39mpass\u001B[39;00m\n",
      "File \u001B[0;32m~/Dropbox/My Mac (MacBook-Pro-9.local)/Documents/AjaxMultiCommentary/ajmc-tools/ajmc/commons/miscellaneous.py:123\u001B[0m, in \u001B[0;36mlazy_property.<locals>.fget\u001B[0;34m(self)\u001B[0m\n\u001B[1;32m    120\u001B[0m \u001B[39m@wraps\u001B[39m(func)\n\u001B[1;32m    121\u001B[0m \u001B[39mdef\u001B[39;00m \u001B[39mfget\u001B[39m(\u001B[39mself\u001B[39m):\n\u001B[1;32m    122\u001B[0m     \u001B[39mif\u001B[39;00m \u001B[39mnot\u001B[39;00m \u001B[39mhasattr\u001B[39m(\u001B[39mself\u001B[39m, private_attr):\n\u001B[0;32m--> 123\u001B[0m         \u001B[39msetattr\u001B[39m(\u001B[39mself\u001B[39m, private_attr, func(\u001B[39mself\u001B[39;49m))\n\u001B[1;32m    124\u001B[0m     \u001B[39mreturn\u001B[39;00m \u001B[39mgetattr\u001B[39m(\u001B[39mself\u001B[39m, private_attr)\n",
      "File \u001B[0;32m~/Dropbox/My Mac (MacBook-Pro-9.local)/Documents/AjaxMultiCommentary/ajmc-tools/ajmc/text_processing/canonical_classes.py:188\u001B[0m, in \u001B[0;36mCanonicalTextContainer.bbox\u001B[0;34m(self)\u001B[0m\n\u001B[1;32m    185\u001B[0m \u001B[39m@lazy_property\u001B[39m\n\u001B[1;32m    186\u001B[0m \u001B[39mdef\u001B[39;00m \u001B[39mbbox\u001B[39m(\u001B[39mself\u001B[39m) \u001B[39m-\u001B[39m\u001B[39m>\u001B[39m Shape:\n\u001B[1;32m    187\u001B[0m \u001B[39m    \u001B[39m\u001B[39m\"\"\"Generic method to get a `CanonicalTextContainer`'s bbox.\"\"\"\u001B[39;00m\n\u001B[0;32m--> 188\u001B[0m     \u001B[39mreturn\u001B[39;00m Shape(get_bbox_from_points([xy \u001B[39mfor\u001B[39;49;00m w \u001B[39min\u001B[39;49;00m \u001B[39mself\u001B[39;49m\u001B[39m.\u001B[39;49mchildren\u001B[39m.\u001B[39;49mwords \u001B[39mfor\u001B[39;49;00m xy \u001B[39min\u001B[39;49;00m w\u001B[39m.\u001B[39;49mbbox\u001B[39m.\u001B[39;49mbbox]))\n",
      "File \u001B[0;32m~/Dropbox/My Mac (MacBook-Pro-9.local)/Documents/AjaxMultiCommentary/ajmc-tools/ajmc/commons/geometry.py:114\u001B[0m, in \u001B[0;36mget_bbox_from_points\u001B[0;34m(points)\u001B[0m\n\u001B[1;32m    112\u001B[0m x_coords \u001B[39m=\u001B[39m [point[\u001B[39m0\u001B[39m] \u001B[39mfor\u001B[39;00m point \u001B[39min\u001B[39;00m points]\n\u001B[1;32m    113\u001B[0m y_coords \u001B[39m=\u001B[39m [point[\u001B[39m1\u001B[39m] \u001B[39mfor\u001B[39;00m point \u001B[39min\u001B[39;00m points]\n\u001B[0;32m--> 114\u001B[0m x_min, x_max \u001B[39m=\u001B[39m \u001B[39mmin\u001B[39;49m(x_coords), \u001B[39mmax\u001B[39m(x_coords)\n\u001B[1;32m    115\u001B[0m y_min, y_max \u001B[39m=\u001B[39m \u001B[39mmin\u001B[39m(y_coords), \u001B[39mmax\u001B[39m(y_coords)\n\u001B[1;32m    117\u001B[0m \u001B[39mreturn\u001B[39;00m (x_min, y_min), (x_max, y_max)\n",
      "\u001B[0;31mValueError\u001B[0m: min() arg is an empty sequence"
     ]
    }
   ],
   "source": [
    "export_dataset(debugging_sample, output_dir, groundtruth_only=False)"
   ]
  }
 ],
 "metadata": {
  "colab": {
   "collapsed_sections": [
    "rXLUehRrvSyw",
    "paNntwmYxHAI"
   ],
   "provenance": [],
   "toc_visible": true
  },
  "kernelspec": {
   "display_name": "Python 3",
   "name": "python3"
  },
  "language_info": {
   "codemirror_mode": {
    "name": "ipython",
    "version": 3
   },
   "file_extension": ".py",
   "mimetype": "text/x-python",
   "name": "python",
   "nbconvert_exporter": "python",
   "pygments_lexer": "ipython3",
   "version": "3.10.0"
  }
 },
 "nbformat": 4,
 "nbformat_minor": 0
}
