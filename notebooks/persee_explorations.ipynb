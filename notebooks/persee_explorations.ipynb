{
 "cells": [
  {
   "cell_type": "markdown",
   "source": [
    "This is assuming that we have converted the `.docx` files to utf-8 encoded `.txt` and `.TIF` to `.png`, after deskewing them slightly (made on the fly with ScanTailor). "
   ],
   "metadata": {
    "collapsed": false
   },
   "id": "cc29554eac2eb159"
  },
  {
   "cell_type": "code",
   "execution_count": 31,
   "id": "initial_id",
   "metadata": {
    "collapsed": true,
    "ExecuteTime": {
     "end_time": "2023-10-04T15:11:03.793437Z",
     "start_time": "2023-10-04T15:11:03.778100Z"
    }
   },
   "outputs": [],
   "source": [
    "from ajmc.commons.variables import DRIVE_BASE_DIR\n",
    "persee_sample_dir = DRIVE_BASE_DIR / 'data' / 'persee_sample'\n",
    "ocr_origine_dir = persee_sample_dir / 'ocr_origine'\n",
    "transcription_dir = persee_sample_dir / 'transcriptions'\n",
    "png_dir = persee_sample_dir / 'png'\n"
   ]
  },
  {
   "cell_type": "markdown",
   "source": [
    "# OCR\n",
    "\n",
    "## Quality assessment\n",
    "\n",
    "We start by exploring the average quality of the OCR compared with the transcription"
   ],
   "metadata": {
    "collapsed": false
   },
   "id": "966bcfa1c22cff57"
  },
  {
   "cell_type": "code",
   "execution_count": 32,
   "outputs": [],
   "source": [
    "# Get the ocr results and the ground truth transcription\n",
    "page_ids = [path.stem for path in png_dir.glob('*.png')]\n",
    "ocr_pages = [(ocr_origine_dir / (page_id+'_OCR_origine.txt')).read_text(encoding='utf-8') for page_id in page_ids]\n",
    "gt_pages = [(transcription_dir / (page_id+'_transcription.txt')).read_text(encoding='utf-8') for page_id in page_ids]\n",
    "\n"
   ],
   "metadata": {
    "collapsed": false,
    "ExecuteTime": {
     "end_time": "2023-10-04T15:11:03.793763Z",
     "start_time": "2023-10-04T15:11:03.784632Z"
    }
   },
   "id": "e008ca8e97f96232"
  },
  {
   "cell_type": "code",
   "execution_count": 33,
   "outputs": [],
   "source": [
    "# In order to avoid space-chars related issues, we replace all space chars by a single space\n",
    "import re\n",
    "ocr_pages = [re.sub(r'\\s+', ' ', page) for page in ocr_pages]\n",
    "gt_pages = [re.sub(r'\\s+', ' ', page) for page in gt_pages]"
   ],
   "metadata": {
    "collapsed": false,
    "ExecuteTime": {
     "end_time": "2023-10-04T15:11:03.809591Z",
     "start_time": "2023-10-04T15:11:03.788053Z"
    }
   },
   "id": "69ab8ba625954638"
  },
  {
   "cell_type": "code",
   "execution_count": 34,
   "outputs": [
    {
     "name": "stderr",
     "output_type": "stream",
     "text": [
      "INFO - ajmc.ocr.evaluation -   Character Error Rate: 0.021\n",
      "INFO - ajmc.ocr.evaluation -   Word Error Rate: 0.094\n",
      "INFO - ajmc.ocr.evaluation -   Greek Character Error Rate: 0.121\n",
      "INFO - ajmc.ocr.evaluation -   Latin Character Error Rate: 0.011\n",
      "INFO - ajmc.ocr.evaluation -   Numeral Character Error Rate: 0.004\n"
     ]
    },
    {
     "name": "stdout",
     "output_type": "stream",
     "text": [
      "{'chars_ER': 0.021, 'words_ER': 0.094, 'greek_chars_ER': 0.121, 'latin_chars_ER': 0.011, 'numeral_chars_ER': 0.004, 'punctuation_chars_ER': 0.006}\n"
     ]
    }
   ],
   "source": [
    "# We now compute the average quality of the ocr\n",
    "from ajmc.ocr.evaluation import line_based_evaluation\n",
    "\n",
    "# Note that we will consider a page as a single (long) line since we do not have the line segmentation\n",
    "error_record, editops_record, results = line_based_evaluation(gt_lines=gt_pages, ocr_lines=ocr_pages, normalize=False)\n",
    "\n",
    "print(results)"
   ],
   "metadata": {
    "collapsed": false,
    "ExecuteTime": {
     "end_time": "2023-10-04T15:11:03.851191Z",
     "start_time": "2023-10-04T15:11:03.835510Z"
    }
   },
   "id": "24cf8068fd36e49"
  },
  {
   "cell_type": "code",
   "execution_count": 35,
   "outputs": [
    {
     "name": "stdout",
     "output_type": "stream",
     "text": [
      "delete   -> : 27\n",
      "replace Ά -> Ἀ: 13\n",
      "replace ό -> ὸ: 13\n",
      "replace έ -> ἐ: 11\n",
      "replace α -> ὰ: 10\n",
      "delete - -> : 10\n",
      "replace ι -> ὶ: 8\n",
      "replace ϊ -> ἴ: 7\n",
      "delete I -> : 6\n",
      "replace η -> ῆ: 5\n",
      "delete 0 -> : 5\n",
      "replace ε -> ὲ: 5\n",
      "replace Ι -> |: 5\n",
      "replace έ -> ὲ: 5\n",
      "replace ί -> ἰ: 4\n",
      "delete U -> : 4\n",
      "delete L -> : 4\n",
      "delete E -> : 4\n",
      "delete P -> : 4\n",
      "insert . -> : 4\n",
      "replace ά -> ἀ: 4\n",
      "insert I -> : 4\n",
      "replace α -> ἀ: 4\n",
      "insert - -> : 4\n",
      "replace ύ -> ῦ: 4\n",
      "replace ώ -> ῶ: 3\n",
      "replace ί -> ῖ: 3\n",
      "replace ί -> ἱ: 3\n",
      "replace r -> I: 3\n",
      "delete 6 -> : 3\n",
      "replace α -> ᾶ: 3\n",
      "replace ύ -> ὑ: 3\n",
      "replace ώ -> ὠ: 3\n",
      "replace Έ -> Ἐ: 3\n",
      "replace ή -> ὴ: 3\n",
      "replace ή -> ἡ: 3\n",
      "replace ί -> ὶ: 3\n",
      "replace ε -> ἔ: 3\n",
      "replace ΐ -> ῖ: 3\n",
      "replace ω -> ῶ: 3\n",
      "replace ύ -> ὐ: 2\n",
      "replace ' -> ἴ: 2\n",
      "delete ί -> : 2\n",
      "replace ή -> ῆ: 2\n",
      "replace η -> ὴ: 2\n",
      "replace l -> 1: 2\n",
      "insert   -> : 2\n",
      "delete 2 -> : 2\n",
      "delete ] -> : 2\n",
      "delete B -> : 2\n",
      "delete T -> : 2\n",
      "delete N -> : 2\n",
      "delete É -> : 2\n",
      "delete G -> : 2\n",
      "delete R -> : 2\n",
      "delete A -> : 2\n",
      "delete H -> : 2\n",
      "delete Q -> : 2\n",
      "replace Α -> Ἀ: 2\n",
      "replace ι -> ἱ: 2\n",
      "replace ό -> ὅ: 2\n",
      "delete Α -> : 2\n",
      "replace m -> I: 2\n",
      "replace ύ -> ὺ: 2\n",
      "replace 1 -> I: 2\n",
      "replace ' -> ’: 2\n",
      "replace ά -> α: 2\n",
      "replace n -> I: 2\n",
      "delete 7 -> : 2\n",
      "replace υ -> ὺ: 2\n",
      "replace ' -> ᾽: 1\n",
      "replace λ -> δ: 1\n",
      "replace ϋ -> ὐ: 1\n",
      "replace \" -> Ἔ: 1\n",
      "delete Ε -> : 1\n",
      "replace p -> (: 1\n",
      "delete a -> : 1\n",
      "delete r -> : 1\n",
      "insert ) -> : 1\n",
      "replace ο -> ό: 1\n",
      "replace ό -> ο: 1\n",
      "replace i -> l: 1\n",
      "replace Ί -> Ἱ: 1\n",
      "insert i -> : 1\n",
      "insert c -> : 1\n",
      "replace M -> l: 1\n",
      "replace έ -> ἔ: 1\n",
      "replace α -> ᾳ: 1\n",
      "replace έ -> ἕ: 1\n",
      "replace υ -> ὑ: 1\n",
      "replace a -> I: 1\n",
      "replace e -> I: 1\n",
      "replace é -> è: 1\n",
      "replace o -> ö: 1\n",
      "replace a -> ä: 1\n",
      "insert l -> : 1\n",
      "replace Y -> ’: 1\n",
      "replace e -> è: 1\n",
      "replace e -> é: 1\n",
      "delete 9 -> : 1\n",
      "replace α -> ἄ: 1\n",
      "replace ε -> ẽ: 1\n",
      "replace ά -> ᾶ: 1\n",
      "replace ά -> ἄ: 1\n",
      "replace α -> ὲ: 1\n",
      "replace ό -> ὁ: 1\n",
      "replace Ι -> ὶ: 1\n",
      "replace ή -> ῇ: 1\n",
      "replace ' -> Ἀ: 1\n",
      "replace ô -> ὃ: 1\n",
      "replace η -> ἡ: 1\n",
      "replace ά -> ἂ: 1\n",
      "replace ώ -> ὥ: 1\n",
      "insert τ -> : 1\n",
      "replace α -> ὶ: 1\n",
      "replace ω -> ῷ: 1\n",
      "replace   -> ῦ: 1\n",
      "delete ΰ -> : 1\n",
      "replace ύ -> ύ: 1\n",
      "replace δ -> ὃ: 1\n",
      "replace ΐ -> ἴ: 1\n",
      "replace ω -> ώ: 1\n",
      "replace \" -> Ἅ: 1\n",
      "replace Ί -> Ἰ: 1\n",
      "insert V -> : 1\n",
      "replace v -> I: 1\n",
      "insert X -> : 1\n",
      "replace x -> I: 1\n",
      "replace f -> e: 1\n",
      "replace 3 -> I: 1\n",
      "replace ι -> ἰ: 1\n",
      "replace ή -> ἠ: 1\n",
      "delete 3 -> : 1\n",
      "replace ο -> ὸ: 1\n",
      "replace ë -> ἕ: 1\n",
      "replace ε -> ἐ: 1\n",
      "replace υ -> ῦ: 1\n",
      "replace Ά -> Ἅ: 1\n",
      "replace Ό -> Ὄ: 1\n",
      "replace έ -> ἑ: 1\n",
      "replace φ -> ῷ: 1\n",
      "insert ὶ -> : 1\n",
      "replace ί -> -: 1\n",
      "replace   -> -: 1\n",
      "delete \" -> : 1\n",
      "replace ά -> ὰ: 1\n",
      "replace v -> V: 1\n",
      "replace η -> ῇ: 1\n",
      "replace υ -> ὐ: 1\n",
      "replace ς -> ὺ: 1\n",
      "replace Έ -> Ἔ: 1\n",
      "replace c -> č: 1\n",
      "replace u -> ü: 1\n",
      "replace â -> ä: 1\n",
      "replace B -> ß: 1\n"
     ]
    }
   ],
   "source": [
    "# Now let us look at the error distribution\n",
    "for (op, old, new), count in sorted(editops_record.items(), key=lambda x: x[1], reverse=True):\n",
    "    print(f'{op} {old} -> {new}: {count}')"
   ],
   "metadata": {
    "collapsed": false,
    "ExecuteTime": {
     "end_time": "2023-10-04T15:11:03.854766Z",
     "start_time": "2023-10-04T15:11:03.853104Z"
    }
   },
   "id": "f1659e2e6a9f39ac"
  },
  {
   "cell_type": "markdown",
   "source": [
    "We can see that many ocr errors are related to space chars and diacritics. Mainly, we see that the error rate is **much higher for greek chars** (12.1%) as it is for latin chars (2.1%). "
   ],
   "metadata": {
    "collapsed": false
   },
   "id": "c2bb2ae44e453567"
  },
  {
   "cell_type": "markdown",
   "source": [
    "## Re-OCRing using specialised models\n",
    "\n",
    "Let us now try to re-OCR the pages using specialised models for greek and latin chars. We will use Tesseract 5 using `-l fra+grc_hist`. `grc_hist` is a model trained on historical greek texts, especially commentaries and groundtruth from OpenGreekAndLatin. In can be found in tesseract's [contrib repo](https://github.com/tesseract-ocr/tessdata_contrib/) and must be place in the `TESSDATA_DIR` used for running (see tesseract's documentation for more info). \n",
    "\n",
    "We then run the following command:\n",
    "```bash\n",
    "cd png\n",
    "export TESSDATA_PREFIX=/path/to/tessdata/dir/\n",
    "for i in *.png ; do tesseract $i \"${i%%.png}\" -l grc_hist+fra;  done;\n",
    "mkdir ../tesseract/txt\n",
    "mv *.txt ../tesseract/txt\n",
    "```\n",
    "\n",
    "We will now run the same evaluation as before on the new OCR results."
   ],
   "metadata": {
    "collapsed": false
   },
   "id": "bd55d8746fb34066"
  },
  {
   "cell_type": "code",
   "execution_count": 42,
   "outputs": [
    {
     "name": "stderr",
     "output_type": "stream",
     "text": [
      "INFO - ajmc.ocr.evaluation -   Character Error Rate: 0.038\n",
      "INFO - ajmc.ocr.evaluation -   Word Error Rate: 0.139\n",
      "INFO - ajmc.ocr.evaluation -   Greek Character Error Rate: 0.083\n",
      "INFO - ajmc.ocr.evaluation -   Latin Character Error Rate: 0.028\n",
      "INFO - ajmc.ocr.evaluation -   Numeral Character Error Rate: 0.004\n"
     ]
    }
   ],
   "source": [
    "tess_output_dir = persee_sample_dir / 'tesseract' / 'txt_grc_grc_hist'\n",
    "tess_ocr_pages = [(tess_output_dir / (page_id+'.txt')).read_text(encoding='utf-8') for page_id in page_ids]\n",
    "\n",
    "tess_ocr_pages = [re.sub(r'\\s+', ' ', page) for page in tess_ocr_pages]\n",
    "\n",
    "error_record, editops_record, results = line_based_evaluation(gt_lines=gt_pages, ocr_lines=tess_ocr_pages, normalize=False)"
   ],
   "metadata": {
    "collapsed": false,
    "ExecuteTime": {
     "end_time": "2023-10-04T15:33:08.047163Z",
     "start_time": "2023-10-04T15:33:07.972848Z"
    }
   },
   "id": "e1eeef85d7c16e8f"
  },
  {
   "cell_type": "markdown",
   "source": [
    "We see that we obtained slightly better ocr results for greek chars, which is our goal when using a specialised model. Let us now move on to the OLR ! "
   ],
   "metadata": {
    "collapsed": false
   },
   "id": "ade95e5eb80eada0"
  },
  {
   "cell_type": "markdown",
   "source": [
    "# OLR "
   ],
   "metadata": {
    "collapsed": false
   },
   "id": "3e6a2db0234e0690"
  },
  {
   "cell_type": "markdown",
   "source": [],
   "metadata": {
    "collapsed": false
   },
   "id": "d3f227dc2ef1152a"
  }
 ],
 "metadata": {
  "kernelspec": {
   "display_name": "Python 3",
   "language": "python",
   "name": "python3"
  },
  "language_info": {
   "codemirror_mode": {
    "name": "ipython",
    "version": 2
   },
   "file_extension": ".py",
   "mimetype": "text/x-python",
   "name": "python",
   "nbconvert_exporter": "python",
   "pygments_lexer": "ipython2",
   "version": "2.7.6"
  }
 },
 "nbformat": 4,
 "nbformat_minor": 5
}
