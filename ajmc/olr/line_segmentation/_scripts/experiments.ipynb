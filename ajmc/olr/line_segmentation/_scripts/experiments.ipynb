{
 "cells": [
  {
   "cell_type": "markdown",
   "source": [
    "# Function definitions and imports\n",
    "\n",
    "We start by importing the necessary libraries and defining the functions that will be used in the rest of the notebook. "
   ],
   "metadata": {
    "collapsed": false
   },
   "id": "657b09701727ea58"
  },
  {
   "cell_type": "code",
   "execution_count": null,
   "id": "initial_id",
   "metadata": {
    "collapsed": true
   },
   "outputs": [],
   "source": []
  },
  {
   "cell_type": "markdown",
   "source": [
    "# Set the variables\n",
    "\n"
   ],
   "metadata": {
    "collapsed": false
   },
   "id": "a7fdf507d9c57183"
  }
 ],
 "metadata": {
  "kernelspec": {
   "display_name": "Python 3",
   "language": "python",
   "name": "python3"
  },
  "language_info": {
   "codemirror_mode": {
    "name": "ipython",
    "version": 2
   },
   "file_extension": ".py",
   "mimetype": "text/x-python",
   "name": "python",
   "nbconvert_exporter": "python",
   "pygments_lexer": "ipython2",
   "version": "2.7.6"
  }
 },
 "nbformat": 4,
 "nbformat_minor": 5
}
