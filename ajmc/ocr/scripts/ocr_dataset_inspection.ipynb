{
 "cells": [
  {
   "cell_type": "markdown",
   "source": [
    "# Inspect GT-commentaries-ocr"
   ],
   "metadata": {
    "collapsed": false
   }
  },
  {
   "cell_type": "code",
   "execution_count": 6,
   "outputs": [
    {
     "name": "stdout",
     "output_type": "stream",
     "text": [
      "       total_chars  greek_chars  latin_chars\n",
      "count  3364.000000  3364.000000  3364.000000\n",
      "mean     40.504756    10.574019    20.262485\n",
      "std      19.486746    13.109963    19.170218\n",
      "min       0.000000     0.000000     0.000000\n",
      "25%      31.000000     0.000000     0.000000\n",
      "50%      39.000000     4.000000    17.000000\n",
      "75%      56.000000    20.000000    36.000000\n",
      "max     174.000000    62.000000   148.000000\n"
     ]
    },
    {
     "data": {
      "text/plain": "                            file_name  total_chars  greek_chars  latin_chars  \\\n0     cu31924087948174_0063_60.gt.txt           37            0           30   \n1      cu31924087948174_0102_0.gt.txt           15            8            0   \n2     cu31924087948174_0051_40.gt.txt           61           31            6   \n3     cu31924087948174_0083_53.gt.txt           36            0           29   \n4      cu31924087948174_0051_9.gt.txt           41           31            0   \n...                               ...          ...          ...          ...   \n3359      Wecklein1894_0109_25.gt.txt           20            0            7   \n3360       Wecklein1894_0080_3.gt.txt            3            0            0   \n3361      Wecklein1894_0007_17.gt.txt           58            0           47   \n3362      Wecklein1894_0109_29.gt.txt           69           31           16   \n3363      Wecklein1894_0109_37.gt.txt           68           21           14   \n\n      is_greek  is_latin  \n0        False      True  \n1         True     False  \n2        False     False  \n3        False      True  \n4         True     False  \n...        ...       ...  \n3359     False     False  \n3360     False     False  \n3361     False     False  \n3362     False     False  \n3363     False     False  \n\n[3364 rows x 6 columns]",
      "text/html": "<div>\n<style scoped>\n    .dataframe tbody tr th:only-of-type {\n        vertical-align: middle;\n    }\n\n    .dataframe tbody tr th {\n        vertical-align: top;\n    }\n\n    .dataframe thead th {\n        text-align: right;\n    }\n</style>\n<table border=\"1\" class=\"dataframe\">\n  <thead>\n    <tr style=\"text-align: right;\">\n      <th></th>\n      <th>file_name</th>\n      <th>total_chars</th>\n      <th>greek_chars</th>\n      <th>latin_chars</th>\n      <th>is_greek</th>\n      <th>is_latin</th>\n    </tr>\n  </thead>\n  <tbody>\n    <tr>\n      <th>0</th>\n      <td>cu31924087948174_0063_60.gt.txt</td>\n      <td>37</td>\n      <td>0</td>\n      <td>30</td>\n      <td>False</td>\n      <td>True</td>\n    </tr>\n    <tr>\n      <th>1</th>\n      <td>cu31924087948174_0102_0.gt.txt</td>\n      <td>15</td>\n      <td>8</td>\n      <td>0</td>\n      <td>True</td>\n      <td>False</td>\n    </tr>\n    <tr>\n      <th>2</th>\n      <td>cu31924087948174_0051_40.gt.txt</td>\n      <td>61</td>\n      <td>31</td>\n      <td>6</td>\n      <td>False</td>\n      <td>False</td>\n    </tr>\n    <tr>\n      <th>3</th>\n      <td>cu31924087948174_0083_53.gt.txt</td>\n      <td>36</td>\n      <td>0</td>\n      <td>29</td>\n      <td>False</td>\n      <td>True</td>\n    </tr>\n    <tr>\n      <th>4</th>\n      <td>cu31924087948174_0051_9.gt.txt</td>\n      <td>41</td>\n      <td>31</td>\n      <td>0</td>\n      <td>True</td>\n      <td>False</td>\n    </tr>\n    <tr>\n      <th>...</th>\n      <td>...</td>\n      <td>...</td>\n      <td>...</td>\n      <td>...</td>\n      <td>...</td>\n      <td>...</td>\n    </tr>\n    <tr>\n      <th>3359</th>\n      <td>Wecklein1894_0109_25.gt.txt</td>\n      <td>20</td>\n      <td>0</td>\n      <td>7</td>\n      <td>False</td>\n      <td>False</td>\n    </tr>\n    <tr>\n      <th>3360</th>\n      <td>Wecklein1894_0080_3.gt.txt</td>\n      <td>3</td>\n      <td>0</td>\n      <td>0</td>\n      <td>False</td>\n      <td>False</td>\n    </tr>\n    <tr>\n      <th>3361</th>\n      <td>Wecklein1894_0007_17.gt.txt</td>\n      <td>58</td>\n      <td>0</td>\n      <td>47</td>\n      <td>False</td>\n      <td>False</td>\n    </tr>\n    <tr>\n      <th>3362</th>\n      <td>Wecklein1894_0109_29.gt.txt</td>\n      <td>69</td>\n      <td>31</td>\n      <td>16</td>\n      <td>False</td>\n      <td>False</td>\n    </tr>\n    <tr>\n      <th>3363</th>\n      <td>Wecklein1894_0109_37.gt.txt</td>\n      <td>68</td>\n      <td>21</td>\n      <td>14</td>\n      <td>False</td>\n      <td>False</td>\n    </tr>\n  </tbody>\n</table>\n<p>3364 rows × 6 columns</p>\n</div>"
     },
     "execution_count": 6,
     "metadata": {},
     "output_type": "execute_result"
    }
   ],
   "source": [
    "from ajmc.ocr.preprocessing.clean_dataset import get_ocr_dataset_text_stats\n",
    "data_path = '/Users/sven/data/GT-commentaries-OCR/data'\n",
    "df = get_ocr_dataset_text_stats(data_path)\n",
    "\n",
    "df"
   ],
   "metadata": {
    "collapsed": false
   }
  },
  {
   "cell_type": "code",
   "execution_count": 7,
   "metadata": {
    "collapsed": true
   },
   "outputs": [
    {
     "name": "stdout",
     "output_type": "stream",
     "text": [
      "total lines 3364\n",
      "Purely greek lines 746\n",
      "Purely latin lines 1314\n",
      "Mixed lines 964\n"
     ]
    }
   ],
   "source": [
    "import numpy as np\n",
    "\n",
    "print('total lines', len(df))\n",
    "print('Purely greek lines', len(df[df['is_greek'] == True]))\n",
    "print('Purely latin lines', len(df[df['is_latin'] == True]))\n",
    "print('Mixed lines', len(df[np.logical_and(df['greek_chars'] > 0, df['latin_chars']>0 )]))"
   ]
  },
  {
   "cell_type": "code",
   "execution_count": 9,
   "outputs": [
    {
     "data": {
      "text/plain": "count    746.000000\nmean      31.365952\nstd       14.780774\nmin        2.000000\n25%       21.000000\n50%       36.000000\n75%       40.000000\nmax       86.000000\nName: total_chars, dtype: float64"
     },
     "execution_count": 9,
     "metadata": {},
     "output_type": "execute_result"
    }
   ],
   "source": [
    "df['total_chars'][df['is_greek']==True].describe()"
   ],
   "metadata": {
    "collapsed": false
   }
  },
  {
   "cell_type": "markdown",
   "source": [
    "# Inspect PoGreTra"
   ],
   "metadata": {
    "collapsed": false
   }
  },
  {
   "cell_type": "code",
   "execution_count": 1,
   "outputs": [
    {
     "name": "stdout",
     "output_type": "stream",
     "text": [
      "        total_chars   greek_chars   latin_chars\n",
      "count  38232.000000  38232.000000  38232.000000\n",
      "mean      55.440835     34.048624      8.305268\n",
      "std       57.447854     35.825286     27.332779\n",
      "min        1.000000      0.000000      0.000000\n",
      "25%       50.000000     16.000000      0.000000\n",
      "50%       57.000000     42.000000      0.000000\n",
      "75%       64.000000     48.000000      6.000000\n",
      "max     3034.000000   1796.000000   1434.000000\n"
     ]
    },
    {
     "data": {
      "text/plain": "                                       file_name  total_chars  greek_chars  \\\n0        nnc1.50178386-1593613693_0028_31.gt.txt           59           48   \n1         nnc1.50178386-1593613693_0026_6.gt.txt           61           53   \n2        nnc1.50178386-1593613693_0020_34.gt.txt           58           42   \n3        nnc1.50178386-1593613693_0012_14.gt.txt           68           54   \n4        nnc1.50178386-1593613693_0038_16.gt.txt           63           53   \n...                                          ...          ...          ...   \n38227  scholiagraeodyss02homeuoft_0244_13.gt.txt           25           12   \n38228  scholiagraeodyss02homeuoft_0244_25.gt.txt           55           24   \n38229  scholiagraeodyss02homeuoft_0244_37.gt.txt           65           20   \n38230  scholiagraeodyss02homeuoft_0367_11.gt.txt           64           40   \n38231  scholiagraeodyss02homeuoft_0244_29.gt.txt           67           13   \n\n       latin_chars  is_greek  is_latin  \n0                0      True     False  \n1                0      True     False  \n2                2     False     False  \n3                0      True     False  \n4                0      True     False  \n...            ...       ...       ...  \n38227            1     False     False  \n38228           12     False     False  \n38229           32     False     False  \n38230            0      True     False  \n38231           30     False     False  \n\n[38232 rows x 6 columns]",
      "text/html": "<div>\n<style scoped>\n    .dataframe tbody tr th:only-of-type {\n        vertical-align: middle;\n    }\n\n    .dataframe tbody tr th {\n        vertical-align: top;\n    }\n\n    .dataframe thead th {\n        text-align: right;\n    }\n</style>\n<table border=\"1\" class=\"dataframe\">\n  <thead>\n    <tr style=\"text-align: right;\">\n      <th></th>\n      <th>file_name</th>\n      <th>total_chars</th>\n      <th>greek_chars</th>\n      <th>latin_chars</th>\n      <th>is_greek</th>\n      <th>is_latin</th>\n    </tr>\n  </thead>\n  <tbody>\n    <tr>\n      <th>0</th>\n      <td>nnc1.50178386-1593613693_0028_31.gt.txt</td>\n      <td>59</td>\n      <td>48</td>\n      <td>0</td>\n      <td>True</td>\n      <td>False</td>\n    </tr>\n    <tr>\n      <th>1</th>\n      <td>nnc1.50178386-1593613693_0026_6.gt.txt</td>\n      <td>61</td>\n      <td>53</td>\n      <td>0</td>\n      <td>True</td>\n      <td>False</td>\n    </tr>\n    <tr>\n      <th>2</th>\n      <td>nnc1.50178386-1593613693_0020_34.gt.txt</td>\n      <td>58</td>\n      <td>42</td>\n      <td>2</td>\n      <td>False</td>\n      <td>False</td>\n    </tr>\n    <tr>\n      <th>3</th>\n      <td>nnc1.50178386-1593613693_0012_14.gt.txt</td>\n      <td>68</td>\n      <td>54</td>\n      <td>0</td>\n      <td>True</td>\n      <td>False</td>\n    </tr>\n    <tr>\n      <th>4</th>\n      <td>nnc1.50178386-1593613693_0038_16.gt.txt</td>\n      <td>63</td>\n      <td>53</td>\n      <td>0</td>\n      <td>True</td>\n      <td>False</td>\n    </tr>\n    <tr>\n      <th>...</th>\n      <td>...</td>\n      <td>...</td>\n      <td>...</td>\n      <td>...</td>\n      <td>...</td>\n      <td>...</td>\n    </tr>\n    <tr>\n      <th>38227</th>\n      <td>scholiagraeodyss02homeuoft_0244_13.gt.txt</td>\n      <td>25</td>\n      <td>12</td>\n      <td>1</td>\n      <td>False</td>\n      <td>False</td>\n    </tr>\n    <tr>\n      <th>38228</th>\n      <td>scholiagraeodyss02homeuoft_0244_25.gt.txt</td>\n      <td>55</td>\n      <td>24</td>\n      <td>12</td>\n      <td>False</td>\n      <td>False</td>\n    </tr>\n    <tr>\n      <th>38229</th>\n      <td>scholiagraeodyss02homeuoft_0244_37.gt.txt</td>\n      <td>65</td>\n      <td>20</td>\n      <td>32</td>\n      <td>False</td>\n      <td>False</td>\n    </tr>\n    <tr>\n      <th>38230</th>\n      <td>scholiagraeodyss02homeuoft_0367_11.gt.txt</td>\n      <td>64</td>\n      <td>40</td>\n      <td>0</td>\n      <td>True</td>\n      <td>False</td>\n    </tr>\n    <tr>\n      <th>38231</th>\n      <td>scholiagraeodyss02homeuoft_0244_29.gt.txt</td>\n      <td>67</td>\n      <td>13</td>\n      <td>30</td>\n      <td>False</td>\n      <td>False</td>\n    </tr>\n  </tbody>\n</table>\n<p>38232 rows × 6 columns</p>\n</div>"
     },
     "execution_count": 1,
     "metadata": {},
     "output_type": "execute_result"
    }
   ],
   "source": [
    "from ajmc.ocr.preprocessing.clean_dataset import get_ocr_dataset_text_stats\n",
    "data_path = '/Users/sven/data/pogretra-v1.0/Data'\n",
    "df = get_ocr_dataset_text_stats(data_path)\n",
    "\n",
    "df"
   ],
   "metadata": {
    "collapsed": false
   }
  },
  {
   "cell_type": "code",
   "execution_count": 3,
   "outputs": [
    {
     "name": "stdout",
     "output_type": "stream",
     "text": [
      "total lines 38232\n",
      "Purely greek lines 25661\n",
      "Purely latin lines 5433\n",
      "Mixed lines 6443\n"
     ]
    }
   ],
   "source": [
    "import numpy as np\n",
    "print('total lines', len(df))\n",
    "print('Purely greek lines', len(df[df['is_greek'] == True]))\n",
    "print('Purely latin lines', len(df[df['is_latin'] == True]))\n",
    "print('Mixed lines', len(df[np.logical_and(df['greek_chars'] > 0, df['latin_chars']>0 )]))"
   ],
   "metadata": {
    "collapsed": false
   }
  },
  {
   "cell_type": "markdown",
   "source": [
    "### Sylinks in pogretra"
   ],
   "metadata": {
    "collapsed": false
   }
  },
  {
   "cell_type": "code",
   "execution_count": 4,
   "outputs": [],
   "source": [
    "import os\n",
    "data_path = '/Users/sven/data/pogretra-v1.0/Data'\n",
    "links = []\n",
    "for root, dirs, files in os.walk(data_path):\n",
    "    for file in files:\n",
    "        if file.endswith('.gt.txt'):\n",
    "            path = os.path.join(root,file)\n",
    "            if os.path.islink(path):\n",
    "                links.append(path)\n"
   ],
   "metadata": {
    "collapsed": false
   }
  },
  {
   "cell_type": "markdown",
   "source": [],
   "metadata": {
    "collapsed": false
   }
  }
 ],
 "metadata": {
  "kernelspec": {
   "display_name": "Python 3",
   "language": "python",
   "name": "python3"
  },
  "language_info": {
   "codemirror_mode": {
    "name": "ipython",
    "version": 2
   },
   "file_extension": ".py",
   "mimetype": "text/x-python",
   "name": "python",
   "nbconvert_exporter": "python",
   "pygments_lexer": "ipython2",
   "version": "2.7.6"
  }
 },
 "nbformat": 4,
 "nbformat_minor": 0
}
